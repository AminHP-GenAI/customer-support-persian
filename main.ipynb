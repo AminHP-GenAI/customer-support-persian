{
 "cells": [
  {
   "cell_type": "code",
   "execution_count": 1,
   "metadata": {},
   "outputs": [],
   "source": [
    "%load_ext autoreload\n",
    "%autoreload 2"
   ]
  },
  {
   "cell_type": "code",
   "execution_count": 2,
   "metadata": {},
   "outputs": [
    {
     "data": {
      "text/plain": [
       "{'lookup_policy_tool': LookupPolicyTool(policy=<policy.Policy object at 0x000002E97AD154C0>)}"
      ]
     },
     "execution_count": 2,
     "metadata": {},
     "output_type": "execute_result"
    }
   ],
   "source": [
    "from policy import Policy\n",
    "from langchain_community.embeddings import OllamaEmbeddings\n",
    "\n",
    "policy = Policy(data_dir='storage/policy', embedding=OllamaEmbeddings(model='llama3'), k=5)\n",
    "tools = policy.get_tools()\n",
    "tools"
   ]
  },
  {
   "cell_type": "code",
   "execution_count": 3,
   "metadata": {},
   "outputs": [
    {
     "name": "stdout",
     "output_type": "stream",
     "text": [
      "FAQ_SUBJECT: قطار\n",
      "FAQ_QUESTION:\n",
      "در یک خرید، برای چند مسافر به‌صورت همزمان می‌توانم خرید کنم؟\n",
      "FAQ_ANSWER:\n",
      "<p>حداکثر بلیت قابل ارائه به هر کاربر غیر حضوری در هر خرید برای قطار های اتوبوسی و 4 تخته تعداد 4 بلیت ، قطار های 6 تخته تعداد 6 بلیت و واگن حمل خودرو تعداد 1 بلیت میباشد .</p><p><br>&nbsp;</p>\n",
      "\n",
      "FAQ_SUBJECT: پرواز خارجی\n",
      "FAQ_QUESTION:\n",
      "خرید بلیط به‌صورت  گروهی چه شرایطی دارد؟\n",
      "FAQ_ANSWER:\n",
      "<p style=\"text-align:right;\">برای مسافران بیشتر از 20 نفر می‌توانید با مرکز پشتیبانی تماس بگیرید و اطلاعات پرواز و مسافران خود را اعلام کنید تا درخواست خرید گروهی شما بررسی و بلیط‌ها تهیه شود.</p><ul><li style=\"text-align:justify;\"><a href=\"tel:+982143900000\">۰۲۱-۴۳۹۰۰۰۰۰ : شماره تماس</a></li></ul>\n",
      "\n",
      "FAQ_SUBJECT: هتل داخلی\n",
      "FAQ_QUESTION:\n",
      "چه ساعتی می‌توانم اتاق را تحویل بگیرم و چه ساعتی باید اتاق را تحویل بدهم؟\n",
      "FAQ_ANSWER:\n",
      "<p style=\"text-align:right;\">معمولا در اکثر هتل ها ساعت ورود 14 و خروج در ساعت 12 انجام میگردد .&nbsp;</p>\n",
      "\n",
      "FAQ_SUBJECT: هتل خارجی\n",
      "FAQ_QUESTION:\n",
      "در رزرو هتل خارجی ،کودکان تا چه سنی رایگان پذیرش می‌شوند و تخت آن‌ها چگونه است؟\n",
      "FAQ_ANSWER:\n",
      "<p>شرایط سنی کودک برای پذیرش در هتل در قسمت «قوانین» اطلاع‌رسانی شده است. قوانین نرخ کودک از هتلی به هتل دیگر متفاوت است.</p><p>&nbsp;</p>\n",
      "\n",
      "FAQ_SUBJECT: پرواز خارجی\n",
      "FAQ_QUESTION:\n",
      "چگونه می‌توانم در مورد مقررات پرواز یا ویزا اطلاعات بگیرم؟\n",
      "FAQ_ANSWER:\n",
      "<p style=\"text-align:justify;\">لازم است که قبل از انتخاب پرواز خود، از مقررات پرواز و قوانین مربوط به ویزا مطلع باشید. مثلا ممکن است مقصد سفر شما نیاز به ویزا نداشته باشد ولی برای توقفی که در مسیر دارد نیاز به ویزای ترانزیت داشته باشید. برای این کار به صفحه <a href=\"/help-center/products/international-flight/rules\" target=\"_blank\" rel=\"noopener noreferrer\"><span style=\"color:#0077DB;\">قوانین و مقررات</span></a>، <a href=\"/help-center/products/international-flight/visa\" target=\"_blank\" rel=\"noopener noreferrer\"><span style=\"color:#0077DB;\">ویزا و اقامت</span></a> و <a href=\"/help-center/products/international-flight/general\" target=\"_blank\" rel=\"noopener noreferrer\"><span style=\"color:#0077DB;\">عمومی</span></a> پرواز خارجی را مطالعه کنید. در صورتی که نیاز به اطلاعات بیشتری داشتید با مرکز پشتیبانی علی‌بابا تماس بگیرید:</p><ul><li style=\"text-align:justify;\"><a href=\"tel:+982143900000\">۰۲۱-۴۳۹۰۰۰۰۰ : شماره تماس</a></li></ul>\n"
     ]
    }
   ],
   "source": [
    "print(tools['lookup_policy_tool'].invoke(input={'query': \"حداکثر برای چند نفر میشه بلیط تهیه کرد؟\"}))"
   ]
  },
  {
   "cell_type": "code",
   "execution_count": null,
   "metadata": {},
   "outputs": [],
   "source": []
  }
 ],
 "metadata": {
  "kernelspec": {
   "display_name": ".venv",
   "language": "python",
   "name": "python3"
  },
  "language_info": {
   "codemirror_mode": {
    "name": "ipython",
    "version": 3
   },
   "file_extension": ".py",
   "mimetype": "text/x-python",
   "name": "python",
   "nbconvert_exporter": "python",
   "pygments_lexer": "ipython3",
   "version": "3.9.6"
  }
 },
 "nbformat": 4,
 "nbformat_minor": 2
}

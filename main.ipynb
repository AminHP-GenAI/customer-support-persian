{
 "cells": [
  {
   "cell_type": "code",
   "execution_count": 1,
   "metadata": {},
   "outputs": [],
   "source": [
    "%load_ext autoreload\n",
    "%autoreload 2"
   ]
  },
  {
   "cell_type": "code",
   "execution_count": 2,
   "metadata": {},
   "outputs": [
    {
     "data": {
      "text/plain": [
       "{'lookup_policy_tool': LookupPolicyTool(policy=<policy.Policy object at 0x00000239021603A0>)}"
      ]
     },
     "execution_count": 2,
     "metadata": {},
     "output_type": "execute_result"
    }
   ],
   "source": [
    "from policy import Policy\n",
    "from langchain_community.embeddings import OllamaEmbeddings\n",
    "\n",
    "policy = Policy(data_dir='storage/policy', embedding=OllamaEmbeddings(model='llama3'))\n",
    "policy_tools = policy.get_tools()\n",
    "policy_tools"
   ]
  },
  {
   "cell_type": "code",
   "execution_count": 3,
   "metadata": {},
   "outputs": [
    {
     "name": "stdout",
     "output_type": "stream",
     "text": [
      "FAQ_SUBJECT: قطار\n",
      "FAQ_QUESTION:\n",
      "در یک خرید، برای چند مسافر به‌صورت همزمان می‌توانم خرید کنم؟\n",
      "FAQ_ANSWER:\n",
      "<p>حداکثر بلیت قابل ارائه به هر کاربر غیر حضوری در هر خرید برای قطار های اتوبوسی و 4 تخته تعداد 4 بلیت ، قطار های 6 تخته تعداد 6 بلیت و واگن حمل خودرو تعداد 1 بلیت میباشد .</p><p><br>&nbsp;</p>\n",
      "\n",
      "FAQ_SUBJECT: پرواز خارجی\n",
      "FAQ_QUESTION:\n",
      "خرید بلیط به‌صورت  گروهی چه شرایطی دارد؟\n",
      "FAQ_ANSWER:\n",
      "<p style=\"text-align:right;\">برای مسافران بیشتر از 20 نفر می‌توانید با مرکز پشتیبانی تماس بگیرید و اطلاعات پرواز و مسافران خود را اعلام کنید تا درخواست خرید گروهی شما بررسی و بلیط‌ها تهیه شود.</p><ul><li style=\"text-align:justify;\"><a href=\"tel:+982143900000\">۰۲۱-۴۳۹۰۰۰۰۰ : شماره تماس</a></li></ul>\n",
      "\n",
      "FAQ_SUBJECT: هتل داخلی\n",
      "FAQ_QUESTION:\n",
      "چه ساعتی می‌توانم اتاق را تحویل بگیرم و چه ساعتی باید اتاق را تحویل بدهم؟\n",
      "FAQ_ANSWER:\n",
      "<p style=\"text-align:right;\">معمولا در اکثر هتل ها ساعت ورود 14 و خروج در ساعت 12 انجام میگردد .&nbsp;</p>\n",
      "\n",
      "FAQ_SUBJECT: پرواز خارجی\n",
      "FAQ_QUESTION:\n",
      "چگونه می‌توانم در مورد مقررات پرواز یا ویزا اطلاعات بگیرم؟\n",
      "FAQ_ANSWER:\n",
      "<p style=\"text-align:justify;\">لازم است که قبل از انتخاب پرواز خود، از مقررات پرواز و قوانین مربوط به ویزا مطلع باشید. مثلا ممکن است مقصد سفر شما نیاز به ویزا نداشته باشد ولی برای توقفی که در مسیر دارد نیاز به ویزای ترانزیت داشته باشید. برای این کار به صفحه <a href=\"/help-center/products/international-flight/rules\" target=\"_blank\" rel=\"noopener noreferrer\"><span style=\"color:#0077DB;\">قوانین و مقررات</span></a>، <a href=\"/help-center/products/international-flight/visa\" target=\"_blank\" rel=\"noopener noreferrer\"><span style=\"color:#0077DB;\">ویزا و اقامت</span></a> و <a href=\"/help-center/products/international-flight/general\" target=\"_blank\" rel=\"noopener noreferrer\"><span style=\"color:#0077DB;\">عمومی</span></a> پرواز خارجی را مطالعه کنید. در صورتی که نیاز به اطلاعات بیشتری داشتید با مرکز پشتیبانی علی‌بابا تماس بگیرید:</p><ul><li style=\"text-align:justify;\"><a href=\"tel:+982143900000\">۰۲۱-۴۳۹۰۰۰۰۰ : شماره تماس</a></li></ul>\n",
      "\n",
      "FAQ_SUBJECT: هتل خارجی\n",
      "FAQ_QUESTION:\n",
      "در رزرو هتل خارجی ،کودکان تا چه سنی رایگان پذیرش می‌شوند و تخت آن‌ها چگونه است؟\n",
      "FAQ_ANSWER:\n",
      "<p>شرایط سنی کودک برای پذیرش در هتل در قسمت «قوانین» اطلاع‌رسانی شده است. قوانین نرخ کودک از هتلی به هتل دیگر متفاوت است.</p><p>&nbsp;</p>\n"
     ]
    }
   ],
   "source": [
    "print(policy_tools['lookup_policy_tool'].invoke(input={'query': \"حداکثر برای چند نفر میشه بلیط تهیه کرد؟\"}))"
   ]
  },
  {
   "cell_type": "code",
   "execution_count": 307,
   "metadata": {},
   "outputs": [],
   "source": [
    "from langchain_community.chat_models import ChatOllama\n",
    "\n",
    "llm = ChatOllama(model='llama3', num_ctx=8192, num_thread=8, temperature=0.0)"
   ]
  },
  {
   "cell_type": "code",
   "execution_count": 330,
   "metadata": {},
   "outputs": [
    {
     "name": "stdout",
     "output_type": "stream",
     "text": [
      "tool_name -> tavily_search_results_json\n",
      "tool_params -> query: string (search query to look up)\n",
      "tool_description ->\n",
      "A search engine optimized for comprehensive, accurate, and trusted results. Useful for when you need to answer questions about current events. Input should be a search query.\n"
     ]
    }
   ],
   "source": [
    "from online_search import PersianTavilySearchResults\n",
    "\n",
    "tools = [PersianTavilySearchResults(max_results=3, llm=llm)] + list(policy_tools.values())\n",
    "\n",
    "def get_tool_description(tool):\n",
    "    tool_params = [\n",
    "        f\"{name}: {info['type']} ({info['description']})\"\n",
    "        for name, info in tool.args.items()\n",
    "    ]\n",
    "    tool_params_string = ', '.join(tool_params)\n",
    "    return (\n",
    "        f\"tool_name -> {tool.name}\\n\"\n",
    "        f\"tool_params -> {tool_params_string}\\n\"\n",
    "        f\"tool_description ->\\n{tool.description}\"\n",
    "    )\n",
    "\n",
    "print(get_tool_description(tools[0]))"
   ]
  },
  {
   "cell_type": "code",
   "execution_count": 357,
   "metadata": {},
   "outputs": [
    {
     "name": "stdout",
     "output_type": "stream",
     "text": [
      "{\"THOUGHT\": \"I think I can find the answer to your question about booking multiple tickets.\", \n",
      "\"ACTION\": \"\", \n",
      "\"ACTION_PARAMS\": {}, \n",
      "\"FINAL_ANSWER\": \"According to our policies, you can book a maximum of 9 tickets for a single passenger. However, if you need to book more than one ticket for different passengers, please note that each passenger must have their own booking reference number.\", \n",
      "\"FINAL_ANSWER_PERSIAN\": \"بر اساس سیاست‌های ما، می‌توانید تا ۹ بلیط برای یک مسافر در یک زمان خریداری کنید. اما اگر بیش از یک بلیط برای مسافران مختلف نیاز دارید، لطفاً توجه داشته باشید که هر مسافر باید شماره مرجع خرید خود را داشته باشد.\"}\n"
     ]
    }
   ],
   "source": [
    "import os\n",
    "import json\n",
    "from langchain_core.messages import SystemMessage, HumanMessage, AIMessage\n",
    "\n",
    "\n",
    "os.environ[\"TAVILY_API_KEY\"] = \"<>\"\n",
    "\n",
    "\n",
    "class ToolMessage(HumanMessage):\n",
    "    \"\"\"Ollama does not support `tool` role and `ToolMessage`\"\"\"\n",
    "\n",
    "\n",
    "tools = [PersianTavilySearchResults(max_results=3, llm=llm)] + list(policy_tools.values())\n",
    "\n",
    "tool_descs = '\\n\\n'.join([get_tool_description(tool) for tool in tools])\n",
    "\n",
    "prompt_template = \\\n",
    "f\"\"\"\n",
    "You are a helpful Persian customer support assistant for Iran Airlines.\n",
    "Use the provided tools to search for flights, company policies, and other information to assist the user's queries. \n",
    "When searching, be persistent. Expand your query bounds if the first search returns no results. \n",
    "If a search comes up empty, expand your search before giving up.\n",
    "\n",
    "You have access to the following tools to get more information if needed:\n",
    "\n",
    "{tool_descs}\n",
    "\n",
    "You also have access to the history of privious messages.\n",
    "\n",
    "Generate the response in the following json format.\n",
    "{{\n",
    "    \"THOUGHT\": \"<you should always think about what to do>\",\n",
    "    \"ACTION\": \"<the action to take, must be one tool_name from above tools>\",\n",
    "    \"ACTION_PARAMS\": \"<the input parameters to the ACTION, it must be in json format complying with the tool_params>\"\n",
    "    \"FINAL_ANSWER\": \"<a text containing the final answer to the original input question>\",\n",
    "    \"FINAL_ANSWER_PERSIAN\": \"<the Persian translated version of the FINAL_ANSWER>\"\n",
    "}}\n",
    "If you don't know the answer, you can take an action using one of the provided tools.\n",
    "But if you do, don't take and action and leave the action-related attributes empty.\n",
    "The values `ACTION` and `FINAL_ANSWER` cannot be filled at the same time.\n",
    "\n",
    "Always make sure that your output is a json complying with above format.\n",
    "Do NOT add anything before or after the json response.\n",
    "\"\"\"\n",
    "\n",
    "user_question = \"حداکثر برای چند نفر میتوان بلیط تهیه کرد؟\"\n",
    "messages = [\n",
    "    SystemMessage(prompt_template),\n",
    "    HumanMessage(user_question),\n",
    "    AIMessage(json.dumps({\n",
    "        \"THOUGHT\": \"Let me check our policies on booking multiple tickets.\", \n",
    "        \"ACTION\": \"lookup_policy_tool\", \n",
    "        \"ACTION_PARAMS\": {\"query\": \"maximum number of passengers for a single booking\"} \n",
    "    })),\n",
    "    ToolMessage(\n",
    "        \"Here is the tool results:\\n\" +\n",
    "        tools[1].invoke(input={\"query\": \"maximum number of passengers for a single booking\"})\n",
    "    ),\n",
    "]\n",
    "\n",
    "# print(messages[-1].content)\n",
    "print(llm.invoke(messages).content)"
   ]
  },
  {
   "cell_type": "code",
   "execution_count": 361,
   "metadata": {},
   "outputs": [
    {
     "name": "stdout",
     "output_type": "stream",
     "text": [
      "{\"THOUGHT\": \"I found the information about excess baggage fee for international flights.\",  \"ACTION\": \"\",  \"ACTION_PARAMS\": {},  \"FINAL_ANSWER\": \"The cost of extra baggage on Iran Air international flights is 100,000 tomans plus 9% tax on added value from all Turkish airports to all Iranian airports (per kilogram of extra baggage): 9 euros. The purchase of extra baggage for adult and child passengers on international flights 'Hema' is possible in a package. Prices are categorized by destinations in Asia, near and far, Europe, and Baku.\", \"FINAL_ANSWER_ PERSIAN\": \"\"}\n"
     ]
    }
   ],
   "source": [
    "user_question = \"هزینه اضافه بار برای مسافرت خارجی چقدر است؟\"\n",
    "messages = [\n",
    "    SystemMessage(prompt_template),\n",
    "    HumanMessage(user_question),\n",
    "    AIMessage(json.dumps({\n",
    "        \"THOUGHT\": \"Let's check the child fare policy for Iran Airlines.\", \n",
    "        \"ACTION\": \"lookup_policy_tool\", \n",
    "        \"ACTION_PARAMS\": {\"query\": \"excess baggage fee for international flights\"} \n",
    "    })),\n",
    "    ToolMessage(\n",
    "        \"Here is the tool results:\\n\" +\n",
    "        tools[1].invoke(input={'query': \"excess baggage fee for international flights\"})\n",
    "    ),\n",
    "    AIMessage(json.dumps({\n",
    "        \"THOUGHT\": \"The provided tools didn't have the information about excess baggage fee for international flights.\", \n",
    "        \"ACTION\": \"tavily_search_results_json\", \n",
    "        \"ACTION_PARAMS\": {\"query\": \"excess baggage fee for international flights Iran Airlines\"} \n",
    "    })),\n",
    "    ToolMessage(\n",
    "        \"Here is the tool results:\\n\" +\n",
    "        tools[0].invoke(input={'query': \"excess baggage fee for international flights Iran Airlines\"})\n",
    "    ),\n",
    "    # AIMessage(json.dumps({\n",
    "    #     \"THOUGHT\": \"The search result suggests that Iran Airlines has a policy for excess baggage fees, but it's not explicitly stated.\", \n",
    "    #     \"ACTION\": \"lookup_policy_tool\", \n",
    "    #     \"ACTION_PARAMS\": {\"query\": \"excess baggage fee for international flights Iran Airlines\"} \n",
    "    # })),\n",
    "    # ToolMessage(\n",
    "    #     \"Here is the tool results:\\n\" +\n",
    "    #     tools[1].invoke(input={'query': \"excess baggage fee for international flights Iran Airlines\"})\n",
    "    # ),\n",
    "]\n",
    "\n",
    "# print(messages[-1].content)\n",
    "print(llm.invoke(messages).content)"
   ]
  },
  {
   "cell_type": "code",
   "execution_count": 353,
   "metadata": {},
   "outputs": [
    {
     "name": "stdout",
     "output_type": "stream",
     "text": [
      "{\"THOUGHT\": \"The child fare policy for Iran Airlines is mentioned in the FAQ answer.\", \n",
      "\"FINAL_ANSWER\": \"According to the FAQ, the child fare for children under 10 years old is half of the adult ticket price.\", \n",
      "\"FINAL_ANSWER_PERSIAN\": \"بر اساس پاسخFAQ، نرخ بلیط کودک برای کودکان زیر ۱۰ سال نصف نرخ بلیط بزرگسال است.\"}\n"
     ]
    }
   ],
   "source": [
    "user_question = \"نرخ بلیط هواپیما برای کودکان زیر ۱۰ سال چقدر است؟\"\n",
    "messages = [\n",
    "    SystemMessage(prompt_template),\n",
    "    HumanMessage(user_question),\n",
    "    AIMessage(json.dumps({\n",
    "        \"THOUGHT\": \"Let's check the child fare policy for Iran Airlines.\", \n",
    "        \"ACTION\": \"lookup_policy_tool\", \n",
    "        \"ACTION_PARAMS\": {\"query\": \"child fare policy iran airlines\"} \n",
    "    })),\n",
    "    ToolMessage(\n",
    "        \"Here is the tool results:\\n\" +\n",
    "        tools[1].invoke(input={'query': \"child fare policy iran airlines\"})\n",
    "    ),\n",
    "]\n",
    "\n",
    "# print(messages[-1].content)\n",
    "print(llm.invoke(messages).content)"
   ]
  },
  {
   "cell_type": "code",
   "execution_count": 355,
   "metadata": {},
   "outputs": [
    {
     "name": "stdout",
     "output_type": "stream",
     "text": [
      "{\"THOUGHT\": \"Unfortunately, the provided tools didn't have any information about child fare policy for children under 10 years old.\", \n",
      "\"FINAL_ANSWER\": \"We don't have specific information on child fare policy for children under 10 years old. However, we can suggest that you contact our customer support team or visit our website to get more information on this topic.\", \n",
      "\"FINAL_ANSWER_PERSIAN\": \"متاسفانه، ابزارهای ما اطلاعات خاصی درباره نرخ بلیط کودک برای کودکان زیر ۱۰ سال نداشتند. اما می‌توانیم پیشنهاد کنیم که با تیم پشتیبانی客رو تماس بگیرید یا به وب‌سایت ما مراجعه کنید تا اطلاعات بیشتر در مورد این موضوع بدست آورید.\"}\n"
     ]
    }
   ],
   "source": [
    "user_question = \"نرخ بلیط هواپیما برای کودکان زیر ۱۰ سال چقدر است؟\"\n",
    "messages = [\n",
    "    SystemMessage(prompt_template),\n",
    "    HumanMessage(user_question),\n",
    "    AIMessage(json.dumps({\n",
    "        \"THOUGHT\": \"Let's check the child fare policy for Iran Airlines.\", \n",
    "        \"ACTION\": \"lookup_policy_tool\", \n",
    "        \"ACTION_PARAMS\": {\"query\": \"child fare policy for children under 10 years old\"} \n",
    "    })),\n",
    "    ToolMessage(\n",
    "        \"Here is the tool results:\\n\" +\n",
    "        tools[1].invoke(input={'query': \"child fare policy for children under 10 years old\"})\n",
    "    ),\n",
    "]\n",
    "\n",
    "# print(messages[-1].content)\n",
    "print(llm.invoke(messages).content)"
   ]
  },
  {
   "cell_type": "code",
   "execution_count": null,
   "metadata": {},
   "outputs": [],
   "source": []
  }
 ],
 "metadata": {
  "kernelspec": {
   "display_name": ".venv",
   "language": "python",
   "name": "python3"
  },
  "language_info": {
   "codemirror_mode": {
    "name": "ipython",
    "version": 3
   },
   "file_extension": ".py",
   "mimetype": "text/x-python",
   "name": "python",
   "nbconvert_exporter": "python",
   "pygments_lexer": "ipython3",
   "version": "3.9.6"
  }
 },
 "nbformat": 4,
 "nbformat_minor": 2
}

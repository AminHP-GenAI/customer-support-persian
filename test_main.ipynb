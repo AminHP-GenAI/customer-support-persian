{
 "cells": [
  {
   "cell_type": "code",
   "execution_count": 1,
   "metadata": {},
   "outputs": [],
   "source": [
    "%load_ext autoreload\n",
    "%autoreload 2"
   ]
  },
  {
   "cell_type": "code",
   "execution_count": 2,
   "metadata": {},
   "outputs": [
    {
     "data": {
      "text/plain": [
       "{'lookup_policy_tool': LookupPolicyTool(policy=<policy.Policy object at 0x000002D027206310>)}"
      ]
     },
     "execution_count": 2,
     "metadata": {},
     "output_type": "execute_result"
    }
   ],
   "source": [
    "from policy import Policy\n",
    "from langchain_community.embeddings import OllamaEmbeddings\n",
    "\n",
    "policy = Policy(data_dir=\"storage/policy\", embedding=OllamaEmbeddings(model='llama3'))\n",
    "policy_tools = policy.get_tools()\n",
    "policy_tools"
   ]
  },
  {
   "cell_type": "code",
   "execution_count": 3,
   "metadata": {},
   "outputs": [
    {
     "name": "stdout",
     "output_type": "stream",
     "text": [
      "FAQ_SUBJECT: قطار\n",
      "FAQ_QUESTION:\n",
      "در یک خرید، برای چند مسافر به‌صورت همزمان می‌توانم خرید کنم؟\n",
      "FAQ_ANSWER:\n",
      "<p>حداکثر بلیت قابل ارائه به هر کاربر غیر حضوری در هر خرید برای قطار های اتوبوسی و 4 تخته تعداد 4 بلیت ، قطار های 6 تخته تعداد 6 بلیت و واگن حمل خودرو تعداد 1 بلیت میباشد .</p><p><br>&nbsp;</p>\n",
      "\n",
      "FAQ_SUBJECT: پرواز خارجی\n",
      "FAQ_QUESTION:\n",
      "خرید بلیط به‌صورت  گروهی چه شرایطی دارد؟\n",
      "FAQ_ANSWER:\n",
      "<p style=\"text-align:right;\">برای مسافران بیشتر از 20 نفر می‌توانید با مرکز پشتیبانی تماس بگیرید و اطلاعات پرواز و مسافران خود را اعلام کنید تا درخواست خرید گروهی شما بررسی و بلیط‌ها تهیه شود.</p><ul><li style=\"text-align:justify;\"><a href=\"tel:+982143900000\">۰۲۱-۴۳۹۰۰۰۰۰ : شماره تماس</a></li></ul>\n",
      "\n",
      "FAQ_SUBJECT: هتل داخلی\n",
      "FAQ_QUESTION:\n",
      "چه ساعتی می‌توانم اتاق را تحویل بگیرم و چه ساعتی باید اتاق را تحویل بدهم؟\n",
      "FAQ_ANSWER:\n",
      "<p style=\"text-align:right;\">معمولا در اکثر هتل ها ساعت ورود 14 و خروج در ساعت 12 انجام میگردد .&nbsp;</p>\n",
      "\n",
      "FAQ_SUBJECT: پرواز خارجی\n",
      "FAQ_QUESTION:\n",
      "چگونه می‌توانم در مورد مقررات پرواز یا ویزا اطلاعات بگیرم؟\n",
      "FAQ_ANSWER:\n",
      "<p style=\"text-align:justify;\">لازم است که قبل از انتخاب پرواز خود، از مقررات پرواز و قوانین مربوط به ویزا مطلع باشید. مثلا ممکن است مقصد سفر شما نیاز به ویزا نداشته باشد ولی برای توقفی که در مسیر دارد نیاز به ویزای ترانزیت داشته باشید. برای این کار به صفحه <a href=\"/help-center/products/international-flight/rules\" target=\"_blank\" rel=\"noopener noreferrer\"><span style=\"color:#0077DB;\">قوانین و مقررات</span></a>، <a href=\"/help-center/products/international-flight/visa\" target=\"_blank\" rel=\"noopener noreferrer\"><span style=\"color:#0077DB;\">ویزا و اقامت</span></a> و <a href=\"/help-center/products/international-flight/general\" target=\"_blank\" rel=\"noopener noreferrer\"><span style=\"color:#0077DB;\">عمومی</span></a> پرواز خارجی را مطالعه کنید. در صورتی که نیاز به اطلاعات بیشتری داشتید با مرکز پشتیبانی علی‌بابا تماس بگیرید:</p><ul><li style=\"text-align:justify;\"><a href=\"tel:+982143900000\">۰۲۱-۴۳۹۰۰۰۰۰ : شماره تماس</a></li></ul>\n",
      "\n",
      "FAQ_SUBJECT: هتل خارجی\n",
      "FAQ_QUESTION:\n",
      "در رزرو هتل خارجی ،کودکان تا چه سنی رایگان پذیرش می‌شوند و تخت آن‌ها چگونه است؟\n",
      "FAQ_ANSWER:\n",
      "<p>شرایط سنی کودک برای پذیرش در هتل در قسمت «قوانین» اطلاع‌رسانی شده است. قوانین نرخ کودک از هتلی به هتل دیگر متفاوت است.</p><p>&nbsp;</p>\n"
     ]
    }
   ],
   "source": [
    "print(policy_tools['lookup_policy_tool'].invoke(input={'query': \"حداکثر برای چند نفر میشه بلیط تهیه کرد؟\"}))"
   ]
  },
  {
   "cell_type": "code",
   "execution_count": 4,
   "metadata": {},
   "outputs": [],
   "source": [
    "from langchain_community.chat_models import ChatOllama\n",
    "\n",
    "llm = ChatOllama(model='llama3', num_ctx=8192, num_thread=8, temperature=0.0)"
   ]
  },
  {
   "cell_type": "code",
   "execution_count": 5,
   "metadata": {},
   "outputs": [
    {
     "name": "stdout",
     "output_type": "stream",
     "text": [
      "tool_name -> tavily_search_tool\n",
      "tool_params -> query: string (search query to look up)\n",
      "tool_description ->\n",
      "A search engine optimized for comprehensive, accurate, and trusted results. Useful for when you need to answer questions about current events. Input should be a search query.\n"
     ]
    }
   ],
   "source": [
    "import os\n",
    "os.environ[\"TAVILY_API_KEY\"] = \"<>\"\n",
    "\n",
    "from online_search import PersianTavilySearchTool\n",
    "\n",
    "tools = [PersianTavilySearchTool(max_results=3, llm=llm)] + list(policy_tools.values())\n",
    "\n",
    "def get_tool_description(tool):\n",
    "    tool_params = [\n",
    "        f\"{name}: {info['type']} ({info['description']})\"\n",
    "        for name, info in tool.args.items()\n",
    "    ]\n",
    "    tool_params_string = ', '.join(tool_params)\n",
    "    return (\n",
    "        f\"tool_name -> {tool.name}\\n\"\n",
    "        f\"tool_params -> {tool_params_string}\\n\"\n",
    "        f\"tool_description ->\\n{tool.description}\"\n",
    "    )\n",
    "\n",
    "print(get_tool_description(tools[0]))"
   ]
  },
  {
   "cell_type": "code",
   "execution_count": 6,
   "metadata": {},
   "outputs": [
    {
     "name": "stdout",
     "output_type": "stream",
     "text": [
      "{\"THOUGHT\": \"I think I can find the answer to your question about booking multiple tickets.\", \n",
      "\"ACTION\": \"\", \n",
      "\"ACTION_PARAMS\": {}, \n",
      "\"FINAL_ANSWER\": \"According to our policies, you can book a maximum of 9 tickets for international flights. However, please note that this may vary depending on the specific flight and travel dates. I recommend checking with our customer support team or consulting our website for more information.\", \n",
      "\"FINAL_ANSWER_ PERSIAN\": \"\"}\n"
     ]
    }
   ],
   "source": [
    "import json\n",
    "from langchain_core.messages import SystemMessage, HumanMessage, AIMessage\n",
    "\n",
    "class ToolMessage(HumanMessage):\n",
    "    \"\"\"Ollama does not support `tool` role and `ToolMessage`\"\"\"\n",
    "\n",
    "\n",
    "tools = [PersianTavilySearchTool(max_results=3, llm=llm)] + list(policy_tools.values())\n",
    "\n",
    "tool_descs = '\\n\\n'.join([get_tool_description(tool) for tool in tools])\n",
    "\n",
    "prompt_template = \\\n",
    "f\"\"\"\n",
    "You are a helpful Persian customer support assistant for Iran Airlines.\n",
    "Use the provided tools to search for flights, company policies, and other information to assist the user's queries. \n",
    "When searching, be persistent. Expand your query bounds if the first search returns no results. \n",
    "If a search comes up empty, expand your search before giving up.\n",
    "\n",
    "You have access to the following tools to get more information if needed:\n",
    "\n",
    "{tool_descs}\n",
    "\n",
    "You also have access to the history of privious messages.\n",
    "\n",
    "Generate the response in the following json format.\n",
    "{{\n",
    "    \"THOUGHT\": \"<you should always think about what to do>\",\n",
    "    \"ACTION\": \"<the action to take, must be one tool_name from above tools>\",\n",
    "    \"ACTION_PARAMS\": \"<the input parameters to the ACTION, it must be in json format complying with the tool_params>\"\n",
    "    \"FINAL_ANSWER\": \"<a text containing the final answer to the original input question>\",\n",
    "    \"FINAL_ANSWER_PERSIAN\": \"<the Persian translated version of the FINAL_ANSWER>\"\n",
    "}}\n",
    "If you don't know the answer, you can take an action using one of the provided tools.\n",
    "But if you do, don't take and action and leave the action-related attributes empty.\n",
    "The values `ACTION` and `FINAL_ANSWER` cannot be filled at the same time.\n",
    "\n",
    "Always make sure that your output is a json complying with above format.\n",
    "Do NOT add anything before or after the json response.\n",
    "\"\"\"\n",
    "\n",
    "user_question = \"حداکثر برای چند نفر میتوان بلیط تهیه کرد؟\"\n",
    "messages = [\n",
    "    SystemMessage(prompt_template),\n",
    "    HumanMessage(user_question),\n",
    "    AIMessage(json.dumps({\n",
    "        \"THOUGHT\": \"Let me check our policies on booking multiple tickets.\", \n",
    "        \"ACTION\": \"lookup_policy_tool\", \n",
    "        \"ACTION_PARAMS\": {\"query\": \"maximum number of passengers for a single booking\"} \n",
    "    })),\n",
    "    ToolMessage(\n",
    "        \"Here is the tool results:\\n\" +\n",
    "        tools[1].invoke(input={\"query\": \"maximum number of passengers for a single booking\"})\n",
    "    ),\n",
    "]\n",
    "\n",
    "# print(messages[-1].content)\n",
    "print(llm.invoke(messages).content)"
   ]
  },
  {
   "cell_type": "code",
   "execution_count": 7,
   "metadata": {},
   "outputs": [
    {
     "name": "stdout",
     "output_type": "stream",
     "text": [
      "{\"THOUGHT\": \"The search results indicate that the excess baggage fee for international flights from Iran to Turkey and vice versa depends on the airline and ticket type.\", \n",
      "\"ACTION\": \"\", \n",
      "\"ACTION_PARAMS\": {}, \n",
      "\"FINAL_ANSWER\": \"According to the report, purchasing excess baggage for adult and child passengers on international flights 'Hema' is possible in package form. The additional fee per kilogram of excess baggage from Turkish airports to Iranian airports is 100,000 tomans plus a 9% tax increase, which is approximately 9 euros.\", \n",
      "\"FINAL_ANSWER_PERSIAN\": \"بر اساس گزارش اداره روابط عمومی، خرید اضافه بار برای مسافران بزرگسال و کودک در پروازهای بین‌المللی 'هما' در بسته‌بندی امکان‌پذیر است. هزینه اضافی هر کیلوگرم اضافه بار از فرودگاه‌های ترکیه به فرودگاه‌های ایران ۱۰۰ هزار تومان با افزایش مالی ۹ درصد است که تقریباً ۹ یورو است.\"}\n"
     ]
    }
   ],
   "source": [
    "user_question = \"هزینه اضافه بار برای مسافرت خارجی چقدر است؟\"\n",
    "messages = [\n",
    "    SystemMessage(prompt_template),\n",
    "    HumanMessage(user_question),\n",
    "    AIMessage(json.dumps({\n",
    "        \"THOUGHT\": \"Let's check the child fare policy for Iran Airlines.\", \n",
    "        \"ACTION\": \"lookup_policy_tool\", \n",
    "        \"ACTION_PARAMS\": {\"query\": \"excess baggage fee for international flights\"} \n",
    "    })),\n",
    "    ToolMessage(\n",
    "        \"Here is the tool results:\\n\" +\n",
    "        tools[1].invoke(input={'query': \"excess baggage fee for international flights\"})\n",
    "    ),\n",
    "    AIMessage(json.dumps({\n",
    "        \"THOUGHT\": \"The provided tools didn't have the information about excess baggage fee for international flights.\", \n",
    "        \"ACTION\": \"tavily_search_tool\", \n",
    "        \"ACTION_PARAMS\": {\"query\": \"excess baggage fee for international flights Iran Airlines\"} \n",
    "    })),\n",
    "    ToolMessage(\n",
    "        \"Here is the tool results:\\n\" +\n",
    "        tools[0].invoke(input={'query': \"excess baggage fee for international flights Iran Airlines\"})\n",
    "    ),\n",
    "    # AIMessage(json.dumps({\n",
    "    #     \"THOUGHT\": \"The search result suggests that Iran Airlines has a policy for excess baggage fees, but it's not explicitly stated.\", \n",
    "    #     \"ACTION\": \"lookup_policy_tool\", \n",
    "    #     \"ACTION_PARAMS\": {\"query\": \"excess baggage fee for international flights Iran Airlines\"} \n",
    "    # })),\n",
    "    # ToolMessage(\n",
    "    #     \"Here is the tool results:\\n\" +\n",
    "    #     tools[1].invoke(input={'query': \"excess baggage fee for international flights Iran Airlines\"})\n",
    "    # ),\n",
    "]\n",
    "\n",
    "# print(messages[-1].content)\n",
    "print(llm.invoke(messages).content)"
   ]
  },
  {
   "cell_type": "code",
   "execution_count": 8,
   "metadata": {},
   "outputs": [
    {
     "name": "stdout",
     "output_type": "stream",
     "text": [
      "{\"THOUGHT\": \"The child fare policy for Iran Airlines is mentioned in the FAQ answer.\", \n",
      "\"FINAL_ANSWER\": \"According to the FAQ, the child fare for children under 10 years old is half of the adult ticket price.\", \n",
      "\"FINAL_ANSWER_PERSIAN\": \"بر اساس پاسخFAQ، نرخ بلیط کودک برای کودکان زیر ۱۰ سال نصف قیمت بلیط بزرگسال است.\"}\n"
     ]
    }
   ],
   "source": [
    "user_question = \"نرخ بلیط هواپیما برای کودکان زیر ۱۰ سال چقدر است؟\"\n",
    "messages = [\n",
    "    SystemMessage(prompt_template),\n",
    "    HumanMessage(user_question),\n",
    "    AIMessage(json.dumps({\n",
    "        \"THOUGHT\": \"Let's check the child fare policy for Iran Airlines.\", \n",
    "        \"ACTION\": \"lookup_policy_tool\", \n",
    "        \"ACTION_PARAMS\": {\"query\": \"child fare policy iran airlines\"} \n",
    "    })),\n",
    "    ToolMessage(\n",
    "        \"Here is the tool results:\\n\" +\n",
    "        tools[1].invoke(input={'query': \"child fare policy iran airlines\"})\n",
    "    ),\n",
    "]\n",
    "\n",
    "# print(messages[-1].content)\n",
    "print(llm.invoke(messages).content)"
   ]
  },
  {
   "cell_type": "code",
   "execution_count": 9,
   "metadata": {},
   "outputs": [
    {
     "name": "stdout",
     "output_type": "stream",
     "text": [
      "{\"THOUGHT\": \"Unfortunately, the provided tools didn't have any information about child fare policy for children under 10 years old.\", \n",
      "\"FINAL_ANSWER\": \"We don't have a specific policy for child fares for children under 10 years old. However, we can offer you a special rate for children in this age group. Please contact our customer support team to get more information and make the necessary arrangements.\", \n",
      "\"FINAL_ANSWER_PERSIAN\": \"ما سیاست خاصی برای نرخ بلیط کودکان زیر ۱۰ سال نداریم. اما می‌توانیم نرخ ویژه‌ای برای کودکان در این گروه سنی ارائه دهیم. لطفا با تیم پشتیبانی客رو تماس بگیرید تا اطلاعات بیشتر و تنظیمات لازم را انجام دهید.\"}\n"
     ]
    }
   ],
   "source": [
    "user_question = \"نرخ بلیط هواپیما برای کودکان زیر ۱۰ سال چقدر است؟\"\n",
    "messages = [\n",
    "    SystemMessage(prompt_template),\n",
    "    HumanMessage(user_question),\n",
    "    AIMessage(json.dumps({\n",
    "        \"THOUGHT\": \"Let's check the child fare policy for Iran Airlines.\", \n",
    "        \"ACTION\": \"lookup_policy_tool\", \n",
    "        \"ACTION_PARAMS\": {\"query\": \"child fare policy for children under 10 years old\"} \n",
    "    })),\n",
    "    ToolMessage(\n",
    "        \"Here is the tool results:\\n\" +\n",
    "        tools[1].invoke(input={'query': \"child fare policy for children under 10 years old\"})\n",
    "    ),\n",
    "]\n",
    "\n",
    "# print(messages[-1].content)\n",
    "print(llm.invoke(messages).content)"
   ]
  },
  {
   "cell_type": "code",
   "execution_count": null,
   "metadata": {},
   "outputs": [],
   "source": []
  },
  {
   "cell_type": "code",
   "execution_count": 10,
   "metadata": {},
   "outputs": [],
   "source": [
    "from database import Database\n",
    "\n",
    "database = Database(data_dir=\"storage/database\")"
   ]
  },
  {
   "cell_type": "code",
   "execution_count": 11,
   "metadata": {},
   "outputs": [
    {
     "name": "stdout",
     "output_type": "stream",
     "text": [
      "[{'ticket_no': '7240005432906569', 'book_ref': 'C46E9F', 'flight_id': 19250, 'flight_no': 'LX0112', 'departure_airport': 'CDG', 'arrival_airport': 'BSL', 'scheduled_departure': '2024-05-10 00:20:04.578832-04:00', 'scheduled_arrival': '2024-05-10 01:50:04.578832-04:00', 'seat_no': '18E', 'fare_conditions': 'Economy'}]\n",
      "20\n"
     ]
    }
   ],
   "source": [
    "from flight import FlightManager\n",
    "\n",
    "flight_manager = FlightManager(database)\n",
    "\n",
    "passenger_id = '3442 587242'\n",
    "print(flight_manager.fetch_user_flight_information(passenger_id))\n",
    "print(len(flight_manager.search_flights()))"
   ]
  },
  {
   "cell_type": "code",
   "execution_count": 12,
   "metadata": {},
   "outputs": [
    {
     "data": {
      "text/plain": [
       "'[{\"ticket_no\": \"7240005432906569\", \"book_ref\": \"C46E9F\", \"flight_id\": 19250, \"flight_no\": \"LX0112\", \"departure_airport\": \"CDG\", \"arrival_airport\": \"BSL\", \"scheduled_departure\": \"2024-05-10 00:20:04.578832-04:00\", \"scheduled_arrival\": \"2024-05-10 01:50:04.578832-04:00\", \"seat_no\": \"18E\", \"fare_conditions\": \"Economy\"}]'"
      ]
     },
     "execution_count": 12,
     "metadata": {},
     "output_type": "execute_result"
    }
   ],
   "source": [
    "import uuid\n",
    "\n",
    "from flight import FlightManager\n",
    "\n",
    "flight_manager = FlightManager(database)\n",
    "flight_tools = flight_manager.get_tools()\n",
    "\n",
    "config = {\n",
    "    'configurable': {\n",
    "        'passenger_id': '3442 587242',\n",
    "        'thread_id': str(uuid.uuid4()),\n",
    "    }\n",
    "}\n",
    "\n",
    "flight_tools['fetch_user_flight_information_tool'].invoke(input={}, config=config)"
   ]
  },
  {
   "cell_type": "code",
   "execution_count": 13,
   "metadata": {},
   "outputs": [
    {
     "name": "stdout",
     "output_type": "stream",
     "text": [
      "{\"THOUGHT\": \"I've got the flight information for you! Let me summarize it.\", \n",
      "\"FINAL_ANSWER\": \"Your ticket number is 7240005432906569, and your flight details are: Flight LX0112 from CDG to BSL on May 10th, 2024. Your seat number is 18E, and the fare conditions are Economy.\"}\n",
      "شماره بلیت شما ۷۲۴۰۰۰۵۴۳۲۹۰۶۵۶۹ است و جزئیات پروازتان عبارتند از: پرواز LX0112 از CDG به BSL در تاریخ ۱۰ ماه مه ۲۰۲۴. شماره صندلی شما ۱۸E است و شرایط قیمتی شما Economy است.\n"
     ]
    }
   ],
   "source": [
    "from llm_translation import translate_to_persian\n",
    "\n",
    "tools = [\n",
    "    PersianTavilySearchTool(max_results=3, llm=llm)\n",
    "] + list(policy_tools.values()) + list(flight_tools.values())\n",
    "\n",
    "tool_descs = '\\n\\n'.join([get_tool_description(tool) for tool in tools])\n",
    "\n",
    "prompt_template = \\\n",
    "f\"\"\"\n",
    "You are a helpful Persian customer support assistant for Iran Airlines.\n",
    "Use the provided tools to search for flights, company policies, and other information to assist the user's queries. \n",
    "When searching, be persistent. Expand your query bounds if the first search returns no results. \n",
    "If a search comes up empty, expand your search before giving up.\n",
    "\n",
    "You have access to the following tools to get more information if needed:\n",
    "\n",
    "{tool_descs}\n",
    "\n",
    "You also have access to the history of privious messages.\n",
    "\n",
    "Generate the response in the following json format.\n",
    "{{\n",
    "    \"THOUGHT\": \"<you should always think about what to do>\",\n",
    "    \"ACTION\": \"<the action to take, must be one tool_name from above tools>\",\n",
    "    \"ACTION_PARAMS\": \"<the input parameters to the ACTION, it must be in json format complying with the tool_params>\"\n",
    "    \"FINAL_ANSWER\": \"<a text containing the final answer to the original input question>\",\n",
    "}}\n",
    "If you don't know the answer, you can take an action using one of the provided tools.\n",
    "But if you do, don't take and action and leave the action-related attributes empty.\n",
    "The values `ACTION` and `FINAL_ANSWER` can never ever be filled at the same time.\n",
    "\n",
    "Always make sure that your output is a json complying with above format.\n",
    "Do NOT add anything before or after the json response.\n",
    "\"\"\"\n",
    "\n",
    "config = {\n",
    "    'configurable': {\n",
    "        'passenger_id': '3442 587242',\n",
    "        'thread_id': str(uuid.uuid4()),\n",
    "    }\n",
    "}\n",
    "\n",
    "user_question = \"امکانش هست اطلاعات پروازم رو بگید؟\"\n",
    "user_question = \"من فراموش کردم که اطلاعات پروازم چی بوده\"\n",
    "\n",
    "messages = [\n",
    "    SystemMessage(prompt_template),\n",
    "    HumanMessage(user_question),\n",
    "    AIMessage(json.dumps({\n",
    "        \"THOUGHT\": \"You're asking about flight information, let me see what I can do for you.\", \n",
    "        \"ACTION\": \"fetch_user_flight_information_tool\", \n",
    "        \"ACTION_PARAMS\": {} \n",
    "    })),\n",
    "    ToolMessage(\n",
    "        \"Here is the tool results:\\n\" +\n",
    "        tools[2].invoke(input={}, config=config)\n",
    "    ),\n",
    "]\n",
    "\n",
    "# print(messages[-1].content)\n",
    "raw_result = llm.invoke(messages, config=config).content\n",
    "print(raw_result)\n",
    "result = json.loads(raw_result)\n",
    "if result.get('FINAL_ANSWER'):\n",
    "    print(translate_to_persian(result['FINAL_ANSWER'], llm))"
   ]
  },
  {
   "cell_type": "code",
   "execution_count": 14,
   "metadata": {},
   "outputs": [
    {
     "name": "stdout",
     "output_type": "stream",
     "text": [
      "{\"THOUGHT\": \"The user wants to search for flights to Basel (BSL). The tool results show a list of available flights.\", \n",
      "\"ACTION\": \"\", \n",
      "\"ACTION_PARAMS\": {}, \n",
      "\"FINAL_ANSWER\": \"Here are the flight details: \\n\\n1. Flight AA0055 from CEB to BSL on 2024-05-30 at 15:35.\\n2. Flight TG0023 from DME to BSL on 2024-06-06 at 13:40.\\n3. Flight AF0137 from HAM to BSL on 2024-05-01 at 18:15 (arrived).\\n4. Flight LH0130 from HAM to BSL on 2024-05-01 at 01:20 (arrived), and again on 2024-05-16 at 01:20.\\n5. Flight TK0081 from HAM to BSL on 2024-06-01 at 21:15, and again on 2024-05-03 at 21:15 (arrived).\\n6. Flight QR0055 from HAM to BSL on 2024-06-01 at 18:30.\\nPlease let me know if you would like more information about any of these flights or if you would like to book one.\"}\n",
      "مشاهده جزئیات پروازها:\n",
      "\n",
      "1. پرواز AA0055 از CEB به BSL در تاریخ 2024-05-30 ساعت 15:35.\n",
      "2. پرواز TG0023 از DME به BSL در تاریخ 2024-06-06 ساعت 13:40.\n",
      "3. پرواز AF0137 از HAM به BSL در تاریخ 2024-05-01 ساعت 18:15 (پرواز رسید).\n",
      "4. پرواز LH0130 از HAM به BSL در تاریخ 2024-05-01 ساعت 01:20 (پرواز رسید) و دوباره در تاریخ 2024-05-16 ساعت 01:20.\n",
      "5. پرواز TK0081 از HAM به BSL در تاریخ 2024-06-01 ساعت 21:15 و دوباره در تاریخ 2024-05-03 ساعت 21:15 (پرواز رسید).\n",
      "6. پرواز QR0055 از HAM به BSL در تاریخ 2024-06-01 ساعت 18:30.\n",
      "\n",
      "لطفا اگر می‌خواهید اطلاعات بیشتر درباره هر یک از این پروازها یا می‌خواهید یکی را رزرو کنید، اطلاع دهید.\n"
     ]
    }
   ],
   "source": [
    "user_question = \"اطلاعات پروازهای به مقصد BSL رو با جزئیات کامل بهم بده\"\n",
    "\n",
    "messages = [\n",
    "    SystemMessage(prompt_template),\n",
    "    HumanMessage(user_question),\n",
    "    AIMessage(json.dumps({\n",
    "        \"THOUGHT\": \"The user wants to search for flights to Basel (BSL).\", \n",
    "        \"ACTION\": \"search_flights_tool\", \n",
    "        \"ACTION_PARAMS\": {'departure_airport': '', 'arrival_airport': 'BSL', 'start_time': '', 'end_time': '', 'limit': 10}\n",
    "    })),\n",
    "    ToolMessage(\n",
    "        \"Here is the tool results:\\n\" +\n",
    "        tools[3].invoke(input={'departure_airport': '', 'arrival_airport': 'BSL', 'start_time': '', 'end_time': '', 'limit': 10}, config=config)\n",
    "    ),\n",
    "]\n",
    "\n",
    "# print(messages[-1].content)\n",
    "raw_result = llm.invoke(messages, config=config).content\n",
    "print(raw_result)\n",
    "result = json.loads(raw_result)\n",
    "if result.get('FINAL_ANSWER'):\n",
    "    print(translate_to_persian(result['FINAL_ANSWER'], llm))"
   ]
  },
  {
   "cell_type": "code",
   "execution_count": 15,
   "metadata": {},
   "outputs": [
    {
     "name": "stdout",
     "output_type": "stream",
     "text": [
      "{\"THOUGHT\": \"No flights found for tomorrow. Let's try to expand the search range.\",  \"ACTION\": \"search_flights_tool\",  \"ACTION_PARAMS\": {\"departure_airport\": \"\", \"arrival_airport\": \"BSL\", \"start_time\": \"2023-03-16T00:00:00+00:00\", \"end_time\": \"2023-03-19T23:59:59+00:00\", \"limit\": 100}}\n"
     ]
    }
   ],
   "source": [
    "user_question = \"اطلاعات همه پروازهای فردا رو میخواستم\"\n",
    "\n",
    "\n",
    "messages = [\n",
    "    SystemMessage(prompt_template),\n",
    "    HumanMessage(user_question),\n",
    "    AIMessage(json.dumps({\n",
    "        \"THOUGHT\": \"The user wants to search for flights to destination BSL.\", \n",
    "        \"ACTION\": \"search_flights_tool\", \n",
    "        \"ACTION_PARAMS\": {\"departure_airport\": \"\", \"arrival_airport\": \"\", \"start_time\": \"2023-03-17T00:00:00+00:00\", \"end_time\": \"2023-03-18T23:59:59+00:00\", \"limit\": 100}\n",
    "    })),\n",
    "    ToolMessage(\n",
    "        \"Here is the tool results:\\n\" +\n",
    "        tools[3].invoke(input={\"departure_airport\": \"\", \"arrival_airport\": \"\", \"start_time\": \"2023-03-17T00:00:00+00:00\", \"end_time\": \"2023-03-18T23:59:59+00:00\", \"limit\": 100}, config=config)\n",
    "    ),\n",
    "]\n",
    "\n",
    "# print(messages[-1].content)\n",
    "raw_result = llm.invoke(messages, config=config).content\n",
    "print(raw_result)\n",
    "result = json.loads(raw_result)\n",
    "if result.get('FINAL_ANSWER'):\n",
    "    print(translate_to_persian(result['FINAL_ANSWER'], llm))"
   ]
  },
  {
   "cell_type": "code",
   "execution_count": 18,
   "metadata": {},
   "outputs": [
    {
     "name": "stdout",
     "output_type": "stream",
     "text": [
      "{\"THOUGHT\": \"The ticket has been successfully cancelled.\", \"FINAL_ANSWER\": \"Ticket successfully cancelled.\"}\n",
      "بلیط با موفقیت لغو شد.\n"
     ]
    }
   ],
   "source": [
    "user_question = \"امکانش هست تیکتم رو به شماره ۷۲۴۰۰۰۵۴۳۲۹۰۶۵۶۹ کنسل کنم؟\"\n",
    "\n",
    "\n",
    "messages = [\n",
    "    SystemMessage(prompt_template),\n",
    "    HumanMessage(user_question),\n",
    "    AIMessage(json.dumps({\n",
    "        \"THOUGHT\": \"Let's check if the ticket can be cancelled and what are the possible actions.\", \n",
    "        \"ACTION\": \"cancel_ticket_tool\", \n",
    "        \"ACTION_PARAMS\": {\"ticket_no\": \"7240005432906569\"},\n",
    "    })),\n",
    "    ToolMessage(\n",
    "        \"Here is the tool results:\\n\" +\n",
    "        tools[5].invoke(input={\"ticket_no\": \"7240005432906569\"}, config=config)\n",
    "    ),\n",
    "]\n",
    "\n",
    "# print(messages[-1].content)\n",
    "raw_result = llm.invoke(messages, config=config).content\n",
    "print(raw_result)\n",
    "result = json.loads(raw_result)\n",
    "if result.get('FINAL_ANSWER'):\n",
    "    print(translate_to_persian(result['FINAL_ANSWER'], llm))"
   ]
  },
  {
   "cell_type": "code",
   "execution_count": null,
   "metadata": {},
   "outputs": [],
   "source": []
  }
 ],
 "metadata": {
  "kernelspec": {
   "display_name": ".venv",
   "language": "python",
   "name": "python3"
  },
  "language_info": {
   "codemirror_mode": {
    "name": "ipython",
    "version": 3
   },
   "file_extension": ".py",
   "mimetype": "text/x-python",
   "name": "python",
   "nbconvert_exporter": "python",
   "pygments_lexer": "ipython3",
   "version": "3.9.6"
  }
 },
 "nbformat": 4,
 "nbformat_minor": 2
}

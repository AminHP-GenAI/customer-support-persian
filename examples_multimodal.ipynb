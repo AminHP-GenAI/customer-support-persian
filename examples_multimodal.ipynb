{
 "cells": [
  {
   "cell_type": "code",
   "execution_count": 7,
   "metadata": {},
   "outputs": [
    {
     "name": "stdout",
     "output_type": "stream",
     "text": [
      "The autoreload extension is already loaded. To reload it, use:\n",
      "  %reload_ext autoreload\n"
     ]
    }
   ],
   "source": [
    "%load_ext autoreload\n",
    "%autoreload 2"
   ]
  },
  {
   "cell_type": "markdown",
   "metadata": {},
   "source": [
    "### Prepare Agent and Configs"
   ]
  },
  {
   "cell_type": "code",
   "execution_count": 8,
   "metadata": {},
   "outputs": [
    {
     "name": "stderr",
     "output_type": "stream",
     "text": [
      "Special tokens have been added in the vocabulary, make sure the associated word embeddings are fine-tuned or trained.\n",
      "`low_cpu_mem_usage` was None, now set to True since model is quantized.\n",
      "Loading checkpoint shards: 100%|██████████| 2/2 [00:00<00:00,  6.39it/s]\n",
      "/home/modir/workspace/persons/aminhp/genai/customer-support-persian/venv/lib/python3.10/site-packages/huggingface_hub/file_download.py:1132: FutureWarning: `resume_download` is deprecated and will be removed in version 1.0.0. Downloads always resume when possible. If you want to force a new download, use `force_download=True`.\n",
      "  warnings.warn(\n"
     ]
    },
    {
     "name": "stdout",
     "output_type": "stream",
     "text": [
      " > Using model: vits\n",
      " > Setting up Audio Processor...\n",
      " | > sample_rate:22050\n",
      " | > resample:False\n",
      " | > num_mels:80\n",
      " | > log_func:np.log10\n",
      " | > min_level_db:0\n",
      " | > frame_shift_ms:None\n",
      " | > frame_length_ms:None\n",
      " | > ref_level_db:None\n",
      " | > fft_size:1024\n",
      " | > power:None\n",
      " | > preemphasis:0.0\n",
      " | > griffin_lim_iters:None\n",
      " | > signal_norm:None\n",
      " | > symmetric_norm:None\n",
      " | > mel_fmin:0\n",
      " | > mel_fmax:None\n",
      " | > pitch_fmin:None\n",
      " | > pitch_fmax:None\n",
      " | > spec_gain:20.0\n",
      " | > stft_pad_mode:reflect\n",
      " | > max_norm:1.0\n",
      " | > clip_norm:True\n",
      " | > do_trim_silence:False\n",
      " | > trim_db:60\n",
      " | > do_sound_norm:False\n",
      " | > do_amp_to_db_linear:True\n",
      " | > do_amp_to_db_mel:True\n",
      " | > do_rms_norm:False\n",
      " | > db_level:None\n",
      " | > stats_path:None\n",
      " | > base:10\n",
      " | > hop_length:256\n",
      " | > win_length:1024\n"
     ]
    }
   ],
   "source": [
    "import IPython\n",
    "\n",
    "import os\n",
    "import uuid\n",
    "from agent_multimodal import MultimodalAgent\n",
    "\n",
    "os.environ['TAVILY_API_KEY'] = \"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\"\n",
    "\n",
    "agent = MultimodalAgent()"
   ]
  },
  {
   "cell_type": "code",
   "execution_count": 9,
   "metadata": {},
   "outputs": [],
   "source": [
    "passenger_id = '3442 587242'\n",
    "\n",
    "config = {\n",
    "    'configurable': {\n",
    "        'passenger_id': passenger_id,\n",
    "        'thread_id': str(uuid.uuid4()),\n",
    "    }\n",
    "}"
   ]
  },
  {
   "cell_type": "markdown",
   "metadata": {},
   "source": [
    "### Good Results"
   ]
  },
  {
   "cell_type": "markdown",
   "metadata": {},
   "source": [
    "##### Example 1:"
   ]
  },
  {
   "cell_type": "code",
   "execution_count": 10,
   "metadata": {},
   "outputs": [
    {
     "name": "stdout",
     "output_type": "stream",
     "text": [
      "================================\u001b[1m Human Message \u001b[0m=================================\n",
      "\n",
      "امروز پنجشنبه هست یا جمعه؟\n",
      "==================================\u001b[1m Ai Message \u001b[0m==================================\n",
      "\n",
      "{ \"THOUGHT\": \"Today's date is 2024-05-24, which means it's Thursday.\", \"FINAL_ANSWER\": \"پنجشنبه\" }\n",
      "==================================\u001b[1m Ai Message \u001b[0m==================================\n",
      "\n",
      "پنجشنبه\n"
     ]
    }
   ],
   "source": [
    "question_1_text = \"امروز پنجشنبه هست یا جمعه؟\"\n",
    "answer_1_audio_path = \"assets/answer_1.wav\"\n",
    "\n",
    "agent.run(\n",
    "    config,\n",
    "    question_text=question_1_text,\n",
    "    answer_audio_path=answer_1_audio_path\n",
    ")"
   ]
  },
  {
   "cell_type": "code",
   "execution_count": null,
   "metadata": {},
   "outputs": [],
   "source": [
    "IPython.display.Audio(answer_1_audio_path)"
   ]
  },
  {
   "cell_type": "markdown",
   "metadata": {},
   "source": [
    "##### Example 2:"
   ]
  },
  {
   "cell_type": "code",
   "execution_count": 11,
   "metadata": {},
   "outputs": [
    {
     "name": "stdout",
     "output_type": "stream",
     "text": [
      "================================\u001b[1m Human Message \u001b[0m=================================\n",
      "\n",
      "سلام، اطلاعات پرواز فعلیم رو میخواستم بدونم.\n",
      "==================================\u001b[1m Ai Message \u001b[0m==================================\n",
      "\n",
      "{ \"THOUGHT\": \"Let's check the current flight information for the user.\", \n",
      "\"ACTION\": \"fetch_user_flight_information_tool\", \n",
      "\"ACTION_PARAMS\": \"{}\", \n",
      "\"FINAL_ANSWER\": \"\" }\n",
      "Tool Calls:\n",
      "  fetch_user_flight_information_tool (08feaa16-49cb-48d8-a269-443cd7b272ca)\n",
      " Call ID: 08feaa16-49cb-48d8-a269-443cd7b272ca\n",
      "  Args:\n",
      "=================================\u001b[1m Tool Message \u001b[0m=================================\n",
      "Name: fetch_user_flight_information_tool\n",
      "\n",
      "--- TOOL MANAGER ---\n",
      "Here is the tool results:\n",
      "\n",
      "Item 1:\n",
      "-- ticket_no: 7240005432906569\n",
      "-- book_ref: C46E9F\n",
      "-- flight_id: 19250\n",
      "-- flight_no: LX0112\n",
      "-- departure_airport: CDG\n",
      "-- arrival_airport: BSL\n",
      "-- scheduled_departure: 2024-05-23 19:04:51.101276-04:00\n",
      "-- scheduled_arrival: 2024-05-23 20:34:51.101276-04:00\n",
      "-- seat_no: 18E\n",
      "-- fare_conditions: Economy\n",
      "\n",
      "==================================\u001b[1m Ai Message \u001b[0m==================================\n",
      "\n",
      "{ \"THOUGHT\": \"The user's current flight information is available.\", \n",
      "\"FINAL_ANSWER\": \"Your current flight information is as follows:\\n\\nTicket Number: 7240005432906569\\nBooking Reference: C46E9F\\nFlight ID: 19250\\nFlight Number: LX0112\\nDeparture Airport: CDG\\nArrival Airport: BSL\\nScheduled Departure Time: 2024-05-23 19:04:51.101276-04:00\\nScheduled Arrival Time: 2024-05-23 20:34:51.101276-04:00\\nSeat Number: 18E\\nFare Conditions: Economy\" }\n",
      "==================================\u001b[1m Ai Message \u001b[0m==================================\n",
      "\n",
      "اطلاعات پرواز جاری شما به شرح زیر است:\n",
      "\n",
      "شماره بلیت: 7240005432906569\n",
      "شماره رزرو: C46E9F\n",
      "کد پرواز: 19250\n",
      "شماره پرواز: LX0112\n",
      " فرودگاه آغاز پرواز: CDG\n",
      "فرودگاه پایان پرواز: BSL\n",
      "زمان پرواز برنامه ریزی شده: 2024-05-23 19:04:51.101276-04:00\n",
      "زمان فرود برنامه ریزی شده: 2024-05-23 20:34:51.101276-04:00\n",
      "شماره کرسی: 18E\n",
      "شرایط قیمت: اقتصاد\n"
     ]
    },
    {
     "name": "stderr",
     "output_type": "stream",
     "text": [
      "INFO:backoff:Backing off send_request(...) for 0.8s (requests.exceptions.ConnectTimeout: HTTPSConnectionPool(host='us-api.i.posthog.com', port=443): Max retries exceeded with url: /batch/ (Caused by ConnectTimeoutError(<urllib3.connection.HTTPSConnection object at 0x7089f0623e20>, 'Connection to us-api.i.posthog.com timed out. (connect timeout=15)')))\n"
     ]
    }
   ],
   "source": [
    "question_2_audio_path = \"assets/question_2.ogg\"\n",
    "answer_2_audio_path = \"assets/answer_2.wav\"\n",
    "\n",
    "agent.run(\n",
    "    config,\n",
    "    question_audio_path=question_2_audio_path,\n",
    "    answer_audio_path=answer_2_audio_path\n",
    ")"
   ]
  },
  {
   "cell_type": "code",
   "execution_count": null,
   "metadata": {},
   "outputs": [],
   "source": [
    "IPython.display.Audio(question_2_audio_path)"
   ]
  },
  {
   "cell_type": "code",
   "execution_count": null,
   "metadata": {},
   "outputs": [],
   "source": [
    "IPython.display.Audio(answer_2_audio_path)"
   ]
  },
  {
   "cell_type": "markdown",
   "metadata": {},
   "source": [
    "### Bad Results"
   ]
  },
  {
   "cell_type": "code",
   "execution_count": null,
   "metadata": {},
   "outputs": [],
   "source": []
  }
 ],
 "metadata": {
  "kernelspec": {
   "display_name": "venv",
   "language": "python",
   "name": "python3"
  },
  "language_info": {
   "codemirror_mode": {
    "name": "ipython",
    "version": 3
   },
   "file_extension": ".py",
   "mimetype": "text/x-python",
   "name": "python",
   "nbconvert_exporter": "python",
   "pygments_lexer": "ipython3",
   "version": "3.10.13"
  }
 },
 "nbformat": 4,
 "nbformat_minor": 2
}
